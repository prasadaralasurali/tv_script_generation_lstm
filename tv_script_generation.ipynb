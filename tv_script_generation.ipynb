{
 "cells": [
  {
   "cell_type": "markdown",
   "metadata": {},
   "source": [
    "# TV Script Generation\n",
    "\n",
    "In this project, I have generated [Seinfeld](https://en.wikipedia.org/wiki/Seinfeld) TV scripts using Long Short Term Memory (LSTM) network. I have used a part of the [Seinfeld dataset](https://www.kaggle.com/thec03u5/seinfeld-chronicles#scripts.csv) of scripts from 9 seasons.  The Neural Network I have built generates a new ,\"fake\" TV script, based on patterns it recognized in this training data.\n",
    "\n",
    "The data is in `./data/Seinfeld_Scripts.txt`. "
   ]
  },
  {
   "cell_type": "code",
   "execution_count": 1,
   "metadata": {},
   "outputs": [],
   "source": [
    "# load in data\n",
    "import helper\n",
    "data_dir = './data/Seinfeld_Scripts.txt'\n",
    "text = helper.load_data(data_dir)"
   ]
  },
  {
   "cell_type": "markdown",
   "metadata": {},
   "source": [
    "## Explore the Data\n",
    "We can set `view_line_range` below to different range to view different parts of the data. "
   ]
  },
  {
   "cell_type": "code",
   "execution_count": 2,
   "metadata": {},
   "outputs": [
    {
     "name": "stdout",
     "output_type": "stream",
     "text": [
      "Dataset Stats\n",
      "Roughly the number of unique words: 46367\n",
      "Number of lines: 109233\n",
      "Average number of words in each line: 5.544240293684143\n",
      "\n",
      "The lines 100 to 110:\n",
      "george: ...and, and maybe shell see me when she gets there, does this woman intend to spend time with me? \n",
      "\n",
      "claire: id have to say, uh, no. \n",
      "\n",
      "(george shows his note-block to jerry; it says very largely: no.) \n",
      "\n",
      "claire: to be polite. \n",
      "\n",
      "george: to be polite. i rest my case. \n",
      "\n"
     ]
    }
   ],
   "source": [
    "view_line_range = (100, 110)\n",
    "\n",
    "import numpy as np\n",
    "\n",
    "print('Dataset Stats')\n",
    "print('Roughly the number of unique words: {}'.format(len({word: None for word in text.split()})))\n",
    "\n",
    "lines = text.split('\\n')\n",
    "print('Number of lines: {}'.format(len(lines)))\n",
    "word_count_line = [len(line.split()) for line in lines]\n",
    "print('Average number of words in each line: {}'.format(np.average(word_count_line)))\n",
    "\n",
    "print()\n",
    "print('The lines {} to {}:'.format(*view_line_range))\n",
    "print('\\n'.join(text.split('\\n')[view_line_range[0]:view_line_range[1]]))"
   ]
  },
  {
   "cell_type": "markdown",
   "metadata": {},
   "source": [
    "## Pre-processing Functions\n",
    "\n",
    "### Lookup Table\n",
    "To create a word embedding, we first need to transform the words to ids.  In this function, I created two dictionaries:\n",
    "- Dictionary to go from the words to an id (`vocab_to_int`)\n",
    "- Dictionary to go from the id to word (`int_to_vocab`)"
   ]
  },
  {
   "cell_type": "code",
   "execution_count": 3,
   "metadata": {},
   "outputs": [
    {
     "name": "stdout",
     "output_type": "stream",
     "text": [
      "Tests Passed\n"
     ]
    }
   ],
   "source": [
    "import problem_unittests as tests\n",
    "\n",
    "def create_lookup_tables(text):\n",
    "    \"\"\"\n",
    "    Create lookup tables for vocabulary\n",
    "    :param text: The text of tv scripts split into words\n",
    "    :return: A tuple of dicts (vocab_to_int, int_to_vocab)\n",
    "    \"\"\"\n",
    "    sorted_text = sorted(list(set(text)))\n",
    "    vocab_to_int = {j:i for i, j in enumerate(sorted_text)}\n",
    "    int_to_vocab = {value:key for key, value in vocab_to_int.items()}\n",
    "    # return tuple of two dictionaries\n",
    "    return (vocab_to_int, int_to_vocab)\n",
    "\n",
    "tests.test_create_lookup_tables(create_lookup_tables)"
   ]
  },
  {
   "cell_type": "markdown",
   "metadata": {},
   "source": [
    "### Tokenize Punctuation\n",
    "Punctuations like periods and exclamation marks can create multiple ids for the same word. For example, \"bye\" and \"bye!\" would generate two different word ids.\n",
    "\n",
    "I have implemented the function `token_lookup` to return a dict that will be used to tokenize symbols like \"!\" into \"||Exclamation_Mark||\".\n",
    "\n",
    "This dictionary will be used to tokenize the symbols and add the delimiter (space) around it.  This separates each symbols as its own word, making it easier for the neural network to predict the next word."
   ]
  },
  {
   "cell_type": "code",
   "execution_count": 4,
   "metadata": {},
   "outputs": [
    {
     "name": "stdout",
     "output_type": "stream",
     "text": [
      "Tests Passed\n"
     ]
    }
   ],
   "source": [
    "def token_lookup():\n",
    "    \"\"\"\n",
    "    Generate a dict to turn punctuation into a token.\n",
    "    :return: Tokenized dictionary where the key is the punctuation and the value is the token\n",
    "    \"\"\"\n",
    "    token_lookup = {'.': '||period||',\n",
    "                   ',': '||comma||',\n",
    "                   '\"': '||quotation_mark||',\n",
    "                   ';': '||semi_colon||',\n",
    "                   '!': '||exclamation_mark||',\n",
    "                   '?': '||question_mark||',\n",
    "                   '(': '||left_parenthesis||',\n",
    "                   ')': '||right_parenthesis||',\n",
    "                   '-': '||dash||',\n",
    "                   '\\n': '||return||'}    \n",
    "    return token_lookup\n",
    "\n",
    "tests.test_tokenize(token_lookup)"
   ]
  },
  {
   "cell_type": "markdown",
   "metadata": {},
   "source": [
    "## Pre-process all the data and save it"
   ]
  },
  {
   "cell_type": "code",
   "execution_count": 5,
   "metadata": {},
   "outputs": [],
   "source": [
    "# pre-process training data\n",
    "helper.preprocess_and_save_data(data_dir, token_lookup, create_lookup_tables)"
   ]
  },
  {
   "cell_type": "markdown",
   "metadata": {},
   "source": [
    "# Check Point 1\n",
    "We can stop running the notebook after executing the above cell and resume it from below cell"
   ]
  },
  {
   "cell_type": "code",
   "execution_count": 6,
   "metadata": {},
   "outputs": [],
   "source": [
    "# Load the saved data\n",
    "import helper\n",
    "import problem_unittests as tests\n",
    "\n",
    "int_text, vocab_to_int, int_to_vocab, token_dict = helper.load_preprocess()"
   ]
  },
  {
   "cell_type": "code",
   "execution_count": 7,
   "metadata": {},
   "outputs": [
    {
     "name": "stdout",
     "output_type": "stream",
     "text": [
      "[19081, 10247, 13592, 21378, 21378]\n",
      "{\"'costanza'\": 100, \"'cotton\": 101, \"'course\": 102, \"'crook\": 103, \"'cuz\": 104}\n",
      "{100: \"'costanza'\", 101: \"'cotton\", 102: \"'course\", 103: \"'crook\", 104: \"'cuz\"}\n",
      "{'.': '||period||', ',': '||comma||', '\"': '||quotation_mark||', ';': '||semi_colon||', '!': '||exclamation_mark||'}\n"
     ]
    }
   ],
   "source": [
    "print(int_text[:5])\n",
    "print({k:vocab_to_int[k] for k in list(vocab_to_int.keys())[100:105]})\n",
    "print({k:int_to_vocab[k] for k in list(int_to_vocab.keys())[100:105]})\n",
    "print({k:token_dict[k] for k in list(token_dict.keys())[:5]})"
   ]
  },
  {
   "cell_type": "markdown",
   "metadata": {},
   "source": [
    "## Build the Neural Network\n",
    "In this section, I have built the components necessary to build an LSTM by implementing the RNN Module and forward and backpropagation functions.\n",
    "\n",
    "### Check Access to GPU"
   ]
  },
  {
   "cell_type": "code",
   "execution_count": 8,
   "metadata": {},
   "outputs": [],
   "source": [
    "import torch\n",
    "\n",
    "# Check for a GPU\n",
    "train_on_gpu = torch.cuda.is_available()\n",
    "if not train_on_gpu:\n",
    "    print('No GPU found. Please use a GPU to train your neural network.')"
   ]
  },
  {
   "cell_type": "markdown",
   "metadata": {},
   "source": [
    "## Input\n",
    "I have started with the preprocessed input data. I have used [TensorDataset](http://pytorch.org/docs/master/data.html#torch.utils.data.TensorDataset) to provide a known format to my dataset; in combination with [DataLoader](http://pytorch.org/docs/master/data.html#torch.utils.data.DataLoader), it will handle batching, shuffling, and other dataset iteration functions.\n",
    "\n",
    "\n",
    "### Batching\n",
    "I have implemented the `batch_data` function to batch `words` data into chunks of size `batch_size` using the `TensorDataset` and `DataLoader` classes.\n",
    "\n",
    "For example, say we have these as input:\n",
    "```\n",
    "words = [1, 2, 3, 4, 5, 6, 7]\n",
    "sequence_length = 4\n",
    "```\n",
    "\n",
    "Our first `feature_tensor` should contain the values:\n",
    "```\n",
    "[1, 2, 3, 4]\n",
    "```\n",
    "And the corresponding `target_tensor` should just be the next \"word\"/tokenized word value:\n",
    "```\n",
    "5\n",
    "```\n",
    "This should continue with the second `feature_tensor`, `target_tensor` being:\n",
    "```\n",
    "[2, 3, 4, 5]  # features\n",
    "6             # target\n",
    "```"
   ]
  },
  {
   "cell_type": "code",
   "execution_count": 9,
   "metadata": {},
   "outputs": [],
   "source": [
    "from torch.utils.data import TensorDataset, DataLoader\n",
    "\n",
    "\n",
    "def batch_data(words, sequence_length, batch_size):\n",
    "    \"\"\"\n",
    "    Batch the neural network data using DataLoader\n",
    "    :param words: The word ids of the TV scripts\n",
    "    :param sequence_length: The sequence length of each batch\n",
    "    :param batch_size: The size of each batch; the number of sequences in a batch\n",
    "    :return: DataLoader with batched data\n",
    "    \"\"\"\n",
    "    X_tensors, y_tensors = [], []\n",
    "    for i in range(len(words) - sequence_length):\n",
    "        try:\n",
    "            end_index = i + sequence_length\n",
    "            feature = words[i:end_index]\n",
    "            # print(feature)\n",
    "            X_tensors.append(feature)\n",
    "            target = words[end_index]\n",
    "            # print(target)\n",
    "            y_tensors.append(target)\n",
    "        except:\n",
    "            break\n",
    "    feature_target_data = TensorDataset(torch.from_numpy(np.asarray(X_tensors)), \n",
    "                         torch.from_numpy(np.asarray(y_tensors)))\n",
    "    # create dataloader\n",
    "    data_loader = DataLoader(feature_target_data, shuffle=False, batch_size=batch_size)\n",
    "    return data_loader "
   ]
  },
  {
   "cell_type": "markdown",
   "metadata": {},
   "source": [
    "### Test dataloader "
   ]
  },
  {
   "cell_type": "code",
   "execution_count": 10,
   "metadata": {},
   "outputs": [
    {
     "name": "stdout",
     "output_type": "stream",
     "text": [
      "torch.Size([10, 5])\n",
      "tensor([[  0,   1,   2,   3,   4],\n",
      "        [  1,   2,   3,   4,   5],\n",
      "        [  2,   3,   4,   5,   6],\n",
      "        [  3,   4,   5,   6,   7],\n",
      "        [  4,   5,   6,   7,   8],\n",
      "        [  5,   6,   7,   8,   9],\n",
      "        [  6,   7,   8,   9,  10],\n",
      "        [  7,   8,   9,  10,  11],\n",
      "        [  8,   9,  10,  11,  12],\n",
      "        [  9,  10,  11,  12,  13]])\n",
      "\n",
      "torch.Size([10])\n",
      "tensor([  5,   6,   7,   8,   9,  10,  11,  12,  13,  14])\n"
     ]
    }
   ],
   "source": [
    "test_text = range(50)\n",
    "t_loader = batch_data(test_text, sequence_length=5, batch_size=10)\n",
    "\n",
    "data_iter = iter(t_loader)\n",
    "sample_x, sample_y = data_iter.next()\n",
    "print(sample_x.shape)\n",
    "print(sample_x)\n",
    "print()\n",
    "print(sample_y.shape)\n",
    "print(sample_y)"
   ]
  },
  {
   "cell_type": "markdown",
   "metadata": {},
   "source": [
    "## Build the Neural Network\n",
    "I have implemented an LSTM using PyTorch's [Module nn](http://pytorch.org/docs/master/nn.html#torch.nn.Module). I have implemented the following classes.\n",
    " - `__init__` - The initialize function. \n",
    " - `init_hidden` - The initialization function for an LSTM hidden state\n",
    " - `forward` - Forward propagation function.\n",
    "\n",
    "**The output of this model is the *last* batch of word scores** after a complete sequence has been processed. That is, for each input sequence of words, we only want to output the word scores for a single, most likely, next word."
   ]
  },
  {
   "cell_type": "code",
   "execution_count": 11,
   "metadata": {},
   "outputs": [
    {
     "name": "stdout",
     "output_type": "stream",
     "text": [
      "Tests Passed\n"
     ]
    }
   ],
   "source": [
    "import torch.nn as nn\n",
    "\n",
    "class RNN(nn.Module):\n",
    "    \n",
    "    def __init__(self, vocabulary_size, output_size, embedding_dimension, \n",
    "                 hidden_dimension, n_layers, drop_out=0.5):\n",
    "        \"\"\"\n",
    "        Initialize the RNN Module from pytorch\n",
    "        :param vocabulary_size: dimensions of input to the neural network         \n",
    "        :param output_size: dimensions of output from the neural network\n",
    "        :param embedding_dimension: The size of embeddings if used        \n",
    "        :param hidden_dimension: The size of the hidden layer outputs\n",
    "        :param dropout: dropout to add in between LSTM layers\n",
    "        \"\"\"\n",
    "        super(RNN, self).__init__()\n",
    "        \n",
    "        # Output size\n",
    "        self.output_size = output_size\n",
    "        # Number of layers\n",
    "        self.n_layers = n_layers\n",
    "        # Number of hidden nodes/lstm cells\n",
    "        self.hidden_dimension = hidden_dimension\n",
    "        \n",
    "        # model layers\n",
    "        self.embedding = nn.Embedding(vocabulary_size, embedding_dimension)\n",
    "        self.lstm = nn.LSTM(embedding_dimension, hidden_dimension, n_layers, dropout=drop_out, batch_first=True)\n",
    "        self.fc = nn.Linear(hidden_dimension, output_size)\n",
    "    \n",
    "    \n",
    "    def forward(self, nnet_input, hidden):\n",
    "        \"\"\"\n",
    "        Forward propagation \n",
    "        :param nn_input: The input to the neural network\n",
    "        :param hidden: The hidden state        \n",
    "        :return: the output and the latest hidden state as tensors\n",
    "        \"\"\"\n",
    "        batch_size = nnet_input.size(0)\n",
    "        \n",
    "        embeds = self.embedding(nnet_input)\n",
    "        lstm_out, hidden = self.lstm(embeds, hidden)\n",
    "        lstm_out = lstm_out.contiguous().view(-1, self.hidden_dimension)\n",
    "        \n",
    "        # fully connected layer\n",
    "        output_layer = self.fc(lstm_out)\n",
    "        \n",
    "        # reshape out_put layer\n",
    "        output_layer = output_layer.view(batch_size, -1, self.output_size)\n",
    "        \n",
    "        # final batch\n",
    "        output = output_layer[:, -1]\n",
    "\n",
    "        # return one batch of output and the hidden state\n",
    "        return output, hidden\n",
    "    \n",
    "    \n",
    "    def init_hidden(self, batch_size):\n",
    "        '''\n",
    "        Initialize the hidden state of an LSTM\n",
    "        :param batch_size: The batch_size of the hidden state\n",
    "        :return: hidden state of dims (n_layers, batch_size, hidden_dimension)\n",
    "        '''\n",
    "    \n",
    "        # initialize hidden state with zero weights, and move to GPU if available\n",
    "        weight = next(self.parameters()).data\n",
    "        \n",
    "        if (train_on_gpu):\n",
    "            hidden_state = (weight.new(self.n_layers, batch_size, self.hidden_dimension).\n",
    "                            zero_().cuda(),\n",
    "                            weight.new(self.n_layers, batch_size, self.hidden_dimension).\n",
    "                            zero_().cuda())\n",
    "        else:\n",
    "            hidden_state = (weight.new(self.n_layers, batch_size, self.hidden_dimension).zero_(),\n",
    "                            weight.new(self.n_layers, batch_size, self.hidden_dimension).zero_())        \n",
    "        return hidden_state\n",
    "\n",
    "tests.test_rnn(RNN, train_on_gpu)"
   ]
  },
  {
   "cell_type": "markdown",
   "metadata": {},
   "source": [
    "### Define forward and backpropagation\n",
    "\n",
    "Used the RNN class to apply forward and back propagation. This function will be called iteratively.\n",
    "\n",
    "And it should return the average loss over a batch and the hidden state returned by a call to `RNN(inp, hidden)`. "
   ]
  },
  {
   "cell_type": "code",
   "execution_count": 12,
   "metadata": {},
   "outputs": [
    {
     "name": "stdout",
     "output_type": "stream",
     "text": [
      "Tests Passed\n"
     ]
    }
   ],
   "source": [
    "def forward_back_prop(rnn, optimizer, criterion, inp, target, hidden):\n",
    "    \"\"\"\n",
    "    Forward and backward propagation \n",
    "    :param rnn: pytorch module\n",
    "    :param optimizer: optimizer for the neural network\n",
    "    :param criterion: loss function\n",
    "    :param inp: A batch of input to the neural network\n",
    "    :param target: The target output for the batch of input\n",
    "    :return: The loss and the latest hidden state Tensor\n",
    "    \"\"\"\n",
    "    # move data to GPU, if available\n",
    "    if train_on_gpu:\n",
    "        inp, target = inp.cuda(), target.cuda()\n",
    "        \n",
    "    hidden = tuple([each.data for each in hidden])\n",
    "    \n",
    "    rnn.zero_grad()\n",
    "    \n",
    "    output, latest_hidden = rnn(inp, hidden)\n",
    "        \n",
    "    ## perform backpropagation and optimization    \n",
    "    \n",
    "    loss = criterion(output, target)\n",
    "    loss.backward()   \n",
    "    nn.utils.clip_grad_norm_(rnn.parameters(), 5)\n",
    "    \n",
    "    optimizer.step()\n",
    "    \n",
    "    # return the loss over a batch and the hidden state produced by the model\n",
    "    return loss.item(), latest_hidden\n",
    "\n",
    "tests.test_forward_back_prop(RNN, forward_back_prop, train_on_gpu)"
   ]
  },
  {
   "cell_type": "markdown",
   "metadata": {},
   "source": [
    "## Neural Network Training"
   ]
  },
  {
   "cell_type": "code",
   "execution_count": 13,
   "metadata": {},
   "outputs": [],
   "source": [
    "def train_rnn(rnn, batch_size, optimizer, criterion, n_epochs, show_every_n_batches=100):\n",
    "    batch_losses = []\n",
    "    \n",
    "    rnn.train()\n",
    "\n",
    "    print(\"Training for %d epoch(s)...\" % n_epochs)\n",
    "    for epoch_i in range(1, n_epochs + 1):\n",
    "        \n",
    "        # initialize hidden state\n",
    "        hidden = rnn.init_hidden(batch_size)\n",
    "        \n",
    "        for batch_i, (inputs, labels) in enumerate(train_loader, 1):\n",
    "            \n",
    "            # iterate over completely full batches only\n",
    "            n_batches = len(train_loader.dataset)//batch_size\n",
    "            if(batch_i > n_batches):\n",
    "                break\n",
    "            \n",
    "            # forward, back prop\n",
    "            loss, hidden = forward_back_prop(rnn, optimizer, criterion, inputs, labels, hidden)          \n",
    "            # record loss\n",
    "            batch_losses.append(loss)\n",
    "\n",
    "            # printing loss stats\n",
    "            if batch_i % show_every_n_batches == 0:\n",
    "                batches = len(train_loader)\n",
    "                percent_trained = ((batch_i + (batches * (epoch_i - 1)))/(batches * n_epochs)) * 100\n",
    "                print('Epoch: {:>4}/{:<4}  Loss: {:.2f}  percent_trained: {:.2f} \\n'.format(\n",
    "                    epoch_i, n_epochs, np.average(batch_losses), percent_trained))\n",
    "                batch_losses = []\n",
    "    print('Final batch loss: {:.2f}'.format(np.average(batch_losses)))\n",
    "\n",
    "    # returns a trained rnn\n",
    "    return rnn"
   ]
  },
  {
   "cell_type": "markdown",
   "metadata": {},
   "source": [
    "### Hyperparameters"
   ]
  },
  {
   "cell_type": "code",
   "execution_count": 14,
   "metadata": {},
   "outputs": [],
   "source": [
    "# Data params\n",
    "# Sequence Length\n",
    "sequence_length = 8  # of words in a sequence\n",
    "# Batch Size\n",
    "batch_size = 256\n",
    "\n",
    "# data loader\n",
    "train_loader = batch_data(int_text, sequence_length, batch_size)"
   ]
  },
  {
   "cell_type": "code",
   "execution_count": 15,
   "metadata": {},
   "outputs": [],
   "source": [
    "# Training parameters\n",
    "# Number of Epochs\n",
    "epochs = 15\n",
    "# Learning Rate\n",
    "learning_rate = 0.001\n",
    "\n",
    "# Model parameters\n",
    "# Vocab size\n",
    "vocab_size = len(vocab_to_int)\n",
    "# Output size\n",
    "output_size = vocab_size\n",
    "# Embedding Dimension\n",
    "embedding_dimension = 300\n",
    "# Hidden Dimension\n",
    "hidden_dimension = 128\n",
    "# Number of RNN Layers\n",
    "n_layers = 2\n",
    "# Show stats for every n number of batches\n",
    "show_every_n_batches = 3000"
   ]
  },
  {
   "cell_type": "markdown",
   "metadata": {},
   "source": [
    "### Train"
   ]
  },
  {
   "cell_type": "code",
   "execution_count": 16,
   "metadata": {},
   "outputs": [
    {
     "name": "stdout",
     "output_type": "stream",
     "text": [
      "Training for 15 epoch(s)...\n",
      "Epoch:    1/15    Loss: 4.82  percent_trained: 5.74 \n",
      "\n",
      "Epoch:    2/15    Loss: 4.22  percent_trained: 12.41 \n",
      "\n",
      "Epoch:    3/15    Loss: 4.01  percent_trained: 19.07 \n",
      "\n",
      "Epoch:    4/15    Loss: 3.88  percent_trained: 25.74 \n",
      "\n",
      "Epoch:    5/15    Loss: 3.78  percent_trained: 32.41 \n",
      "\n",
      "Epoch:    6/15    Loss: 3.71  percent_trained: 39.07 \n",
      "\n",
      "Epoch:    7/15    Loss: 3.65  percent_trained: 45.74 \n",
      "\n",
      "Epoch:    8/15    Loss: 3.60  percent_trained: 52.41 \n",
      "\n",
      "Epoch:    9/15    Loss: 3.56  percent_trained: 59.07 \n",
      "\n",
      "Epoch:   10/15    Loss: 3.53  percent_trained: 65.74 \n",
      "\n",
      "Epoch:   11/15    Loss: 3.50  percent_trained: 72.41 \n",
      "\n",
      "Epoch:   12/15    Loss: 3.47  percent_trained: 79.07 \n",
      "\n",
      "Epoch:   13/15    Loss: 3.45  percent_trained: 85.74 \n",
      "\n",
      "Epoch:   14/15    Loss: 3.42  percent_trained: 92.41 \n",
      "\n",
      "Epoch:   15/15    Loss: 3.40  percent_trained: 99.07 \n",
      "\n",
      "Final batch loss: 3.44\n",
      "Model Trained and Saved\n",
      "It took 38.61 minutes to train\n"
     ]
    },
    {
     "name": "stderr",
     "output_type": "stream",
     "text": [
      "/opt/conda/lib/python3.6/site-packages/torch/serialization.py:193: UserWarning: Couldn't retrieve source code for container of type RNN. It won't be checked for correctness upon loading.\n",
      "  \"type \" + obj.__name__ + \". It won't be checked \"\n"
     ]
    }
   ],
   "source": [
    "import time\n",
    "start = time.time()\n",
    "# create model and move to gpu if available\n",
    "rnn = RNN(vocab_size, output_size, embedding_dimension, hidden_dimension, \n",
    "          n_layers, drop_out=0.5)\n",
    "if train_on_gpu:\n",
    "    rnn.cuda()\n",
    "\n",
    "# defining loss and optimization functions for training\n",
    "optimizer = torch.optim.Adam(rnn.parameters(), lr=learning_rate)\n",
    "criterion = nn.CrossEntropyLoss()\n",
    "\n",
    "# training the model\n",
    "trained_rnn = train_rnn(rnn, batch_size, optimizer, criterion, epochs, \n",
    "                        show_every_n_batches)\n",
    "\n",
    "# saving the trained model\n",
    "helper.save_model('./save/trained_rnn', trained_rnn)\n",
    "print('Model Trained and Saved')\n",
    "\n",
    "print(\"It took {:.2f} minutes to train\".format((time.time() - start)/60))\n"
   ]
  },
  {
   "cell_type": "markdown",
   "metadata": {},
   "source": [
    "### hyperparameter tuning"
   ]
  },
  {
   "cell_type": "markdown",
   "metadata": {},
   "source": [
    "**Answer:**\n",
    "I started with the following hyper parameters. This helped me to quickly train to see if everything works fine.\n",
    "- sequence_length = 8\n",
    "- batch_size = 128\n",
    "- epochs = 1\n",
    "- learning_rate = 1\n",
    "- embedding_dimension = 400 \n",
    "- hidden_dimension = 200\n",
    "- n_layers = 1 \n",
    "\n",
    "This produced an validation loss of `356`.\n",
    "\n",
    "Then I tried several hyper parameter combination before the one I chosen above which yielded the loss of `~3.5`.\n",
    "\n",
    "I considered the following facts while choosing hyperparameters.\n",
    "\n",
    "**Number of epochs**: The more epochs you use, the better the model fit will be. However, having too many epochs can waste computational resources and can lead to overfitting.\n",
    "\n",
    "**Learning rate**: If learning rate is too big, the weights tend to explode and the network fails to fit the data. A good choice to start at is 0.1. Generally, if the network has problems fitting the data, we try reducing the learning rate. In contrast, lower the learning rate, the smaller the weight updates and the longer it takes for the neural network to converge.\n",
    "\n",
    "**hidden_dimension:** The more hidden nodes you have, the more accurate the predictions of the model will be. However, it will be harder to optimize the weights of the model, and the model is unnecessarily complex leading to overfitting. \n",
    "\n",
    "Apart from the above considerations, my hyper-parameter setting also involves a lot of trail and error. The dataframe below shows some of the hyper-parameters combinations I tested."
   ]
  },
  {
   "cell_type": "code",
   "execution_count": 17,
   "metadata": {},
   "outputs": [
    {
     "data": {
      "text/html": [
       "<div>\n",
       "<style scoped>\n",
       "    .dataframe tbody tr th:only-of-type {\n",
       "        vertical-align: middle;\n",
       "    }\n",
       "\n",
       "    .dataframe tbody tr th {\n",
       "        vertical-align: top;\n",
       "    }\n",
       "\n",
       "    .dataframe thead th {\n",
       "        text-align: right;\n",
       "    }\n",
       "</style>\n",
       "<table border=\"1\" class=\"dataframe\">\n",
       "  <thead>\n",
       "    <tr style=\"text-align: right;\">\n",
       "      <th></th>\n",
       "      <th>model_1</th>\n",
       "      <th>model_2</th>\n",
       "      <th>model_3</th>\n",
       "      <th>model_4</th>\n",
       "    </tr>\n",
       "  </thead>\n",
       "  <tbody>\n",
       "    <tr>\n",
       "      <th>sequence_length</th>\n",
       "      <td>8</td>\n",
       "      <td>8</td>\n",
       "      <td>8</td>\n",
       "      <td>8</td>\n",
       "    </tr>\n",
       "    <tr>\n",
       "      <th>batch_size</th>\n",
       "      <td>256</td>\n",
       "      <td>256</td>\n",
       "      <td>256</td>\n",
       "      <td>256</td>\n",
       "    </tr>\n",
       "    <tr>\n",
       "      <th>epochs</th>\n",
       "      <td>6</td>\n",
       "      <td>10</td>\n",
       "      <td>10</td>\n",
       "      <td>15</td>\n",
       "    </tr>\n",
       "    <tr>\n",
       "      <th>learning_rate</th>\n",
       "      <td>0.01</td>\n",
       "      <td>0.03</td>\n",
       "      <td>0.0015</td>\n",
       "      <td>0.001</td>\n",
       "    </tr>\n",
       "    <tr>\n",
       "      <th>embedding_dimension</th>\n",
       "      <td>300</td>\n",
       "      <td>300</td>\n",
       "      <td>300</td>\n",
       "      <td>300</td>\n",
       "    </tr>\n",
       "    <tr>\n",
       "      <th>hidden_dimension</th>\n",
       "      <td>128</td>\n",
       "      <td>128</td>\n",
       "      <td>128</td>\n",
       "      <td>128</td>\n",
       "    </tr>\n",
       "    <tr>\n",
       "      <th>n_layers</th>\n",
       "      <td>2</td>\n",
       "      <td>2</td>\n",
       "      <td>2</td>\n",
       "      <td>2</td>\n",
       "    </tr>\n",
       "    <tr>\n",
       "      <th>loss</th>\n",
       "      <td>4.14</td>\n",
       "      <td>3.62</td>\n",
       "      <td>3.56</td>\n",
       "      <td>3.44</td>\n",
       "    </tr>\n",
       "  </tbody>\n",
       "</table>\n",
       "</div>"
      ],
      "text/plain": [
       "                    model_1 model_2 model_3 model_4\n",
       "sequence_length           8       8       8       8\n",
       "batch_size              256     256     256     256\n",
       "epochs                    6      10      10      15\n",
       "learning_rate          0.01    0.03  0.0015   0.001\n",
       "embedding_dimension     300     300     300     300\n",
       "hidden_dimension        128     128     128     128\n",
       "n_layers                  2       2       2       2\n",
       "loss                   4.14    3.62    3.56    3.44"
      ]
     },
     "execution_count": 17,
     "metadata": {},
     "output_type": "execute_result"
    }
   ],
   "source": [
    "import pandas as pd\n",
    "hyper_parameters = dict()\n",
    "row_index = ['sequence_length', 'batch_size', 'epochs','learning_rate', \n",
    "             'embedding_dimension', 'hidden_dimension','n_layers', 'loss']\n",
    "hyper_parameters['model_1'] =[str(i) for i in [8, 256, 6, 0.01, 300, 128, 2, 4.14]]\n",
    "hyper_parameters['model_2'] = [str(i) for i in [8, 256, 10, 0.03, 300, 128, 2, 3.62]]\n",
    "hyper_parameters['model_3'] = [str(i) for i in [8, 256, 10, 0.0015, 300, 128, 2, 3.56]]\n",
    "hyper_parameters['model_4'] = [str(i) for i in [8, 256, 15, 0.001, 300, 128, 2, 3.44]]\n",
    "pd.DataFrame(hyper_parameters, index=row_index)"
   ]
  },
  {
   "cell_type": "markdown",
   "metadata": {},
   "source": [
    "---\n",
    "# Checkpoint 2"
   ]
  },
  {
   "cell_type": "code",
   "execution_count": 18,
   "metadata": {},
   "outputs": [],
   "source": [
    "import torch\n",
    "import helper\n",
    "import problem_unittests as tests\n",
    "\n",
    "_, vocab_to_int, int_to_vocab, token_dict = helper.load_preprocess()\n",
    "trained_rnn = helper.load_model('./save/trained_rnn')"
   ]
  },
  {
   "cell_type": "markdown",
   "metadata": {},
   "source": [
    "## Generate TV Script\n",
    "To generate the text, the network needs to start with a single word and repeat its predictions until it reaches a set length. `generate` function takes a word id to start with (`prime_id`), and generates a set length of text (`predict_len`). It uses topk sampling to introduce some randomness in choosing the most likely next word, given an output set of word scores!"
   ]
  },
  {
   "cell_type": "code",
   "execution_count": 19,
   "metadata": {},
   "outputs": [],
   "source": [
    "import torch.nn.functional as F\n",
    "\n",
    "def generate(rnn, prime_id, int_to_vocab, token_dict, pad_value, predict_len=100):\n",
    "    \"\"\"\n",
    "    Generate text using the neural network\n",
    "    :param decoder: The PyTorch Module that holds the trained neural network\n",
    "    :param prime_id: The word id to start the first prediction\n",
    "    :param int_to_vocab: Dict of word id keys to word values\n",
    "    :param token_dict: Dict of puncuation tokens keys to puncuation values\n",
    "    :param pad_value: The value used to pad a sequence\n",
    "    :param predict_len: The length of text to generate\n",
    "    :return: The generated text\n",
    "    \"\"\"\n",
    "    rnn.eval()\n",
    "    \n",
    "    # create a sequence (batch_size=1) with the prime_id\n",
    "    current_seq = np.full((1, sequence_length), pad_value)\n",
    "    current_seq[-1][-1] = prime_id\n",
    "    predicted = [int_to_vocab[prime_id]]\n",
    "    \n",
    "    for _ in range(predict_len):\n",
    "        if train_on_gpu:\n",
    "            current_seq = torch.LongTensor(current_seq).cuda()\n",
    "        else:\n",
    "            current_seq = torch.LongTensor(current_seq)\n",
    "        \n",
    "        # initialize the hidden state\n",
    "        hidden = rnn.init_hidden(current_seq.size(0))\n",
    "        \n",
    "        # get the output of the rnn\n",
    "        output, _ = rnn(current_seq, hidden)\n",
    "        \n",
    "        # get the next word probabilities\n",
    "        p = F.softmax(output, dim=1).data\n",
    "        if(train_on_gpu):\n",
    "            p = p.cpu() # move to cpu\n",
    "         \n",
    "        # use top_k sampling to get the index of the next word\n",
    "        top_k = 5\n",
    "        p, top_i = p.topk(top_k)\n",
    "        top_i = top_i.numpy().squeeze()\n",
    "        \n",
    "        # select the likely next word index with some element of randomness\n",
    "        p = p.numpy().squeeze()\n",
    "        word_i = np.random.choice(top_i, p=p/p.sum())\n",
    "        \n",
    "        # retrieve that word from the dictionary\n",
    "        word = int_to_vocab[word_i]\n",
    "        predicted.append(word)     \n",
    "        \n",
    "        # the generated word becomes the next \"current sequence\" and the cycle can continue\n",
    "        current_seq = np.roll(current_seq, -1, 1)\n",
    "        current_seq[-1][-1] = word_i\n",
    "    \n",
    "    gen_sentences = ' '.join(predicted)\n",
    "    \n",
    "    # Replace punctuation tokens\n",
    "    for key, token in token_dict.items():\n",
    "        ending = ' ' if key in ['\\n', '(', '\"'] else ''\n",
    "        gen_sentences = gen_sentences.replace(' ' + token.lower(), key)\n",
    "    gen_sentences = gen_sentences.replace('\\n ', '\\n')\n",
    "    gen_sentences = gen_sentences.replace('( ', '(')\n",
    "    \n",
    "    # return all the sentences\n",
    "    return gen_sentences"
   ]
  },
  {
   "cell_type": "markdown",
   "metadata": {},
   "source": [
    "### Generate a New Script\n",
    "It's time to generate the text. We need to set `gen_length` to the length of TV script we want to generate and set `prime_word` to one of the following to start the prediction:\n",
    "- \"jerry\"\n",
    "- \"elaine\"\n",
    "- \"george\"\n",
    "- \"kramer\"\n",
    "\n",
    "We can set the prime word to _any word_ in our dictionary, but it's best to start with a name for generating a TV script. (We can also start with any other names we find in the original text file!)."
   ]
  },
  {
   "cell_type": "code",
   "execution_count": 20,
   "metadata": {},
   "outputs": [
    {
     "name": "stderr",
     "output_type": "stream",
     "text": [
      "/opt/conda/lib/python3.6/site-packages/ipykernel_launcher.py:40: UserWarning: RNN module weights are not part of single contiguous chunk of memory. This means they need to be compacted at every call, possibly greatly increasing memory usage. To compact weights again call flatten_parameters().\n"
     ]
    },
    {
     "name": "stdout",
     "output_type": "stream",
     "text": [
      "kramer:) yeah!\n",
      "\n",
      "kramer: yeah, yeah, that's it! it's a good time for a friend of bystanding.\n",
      "\n",
      "kramer: yeah, yeah-\n",
      "\n",
      "jerry: what?\n",
      "\n",
      "jerry:(to elaine) what?\n",
      "\n",
      "jerry: oh.\n",
      "\n",
      "jerry: oh, no no no no, no. it's just to be the same thing.\n",
      "\n",
      "elaine:(to jerry) i can't believe i can do that, i'm geraldo...\n",
      "\n",
      "jerry: i don't know.\n",
      "\n",
      "jerry: oh, i'm sorry.\n",
      "\n",
      "jerry:(pointing to the waitress) hey, you know, this was the most important thing i have behaved to the supermarket.\n",
      "\n",
      "george: what?\n",
      "\n",
      "elaine: well, i can't... i don't have to talk to you.\n",
      "\n",
      "jerry:(to the phone) what are you going to do?\n",
      "\n",
      "jerry: oh, i got it in the middle of alabama, or what is that?\n",
      "\n",
      "hoyt: no, no, no.\n",
      "\n",
      "jerry: well, i think you were going to be on the phone.\n",
      "\n",
      "george: i think i can go with this woman. i mean.\n",
      "\n",
      "george:(to jerry) i think i could do it, it's like a real incriminating.\n",
      "\n",
      "jerry: i don't know. i'm gonna go to the bathroom.\n",
      "\n",
      "jerry: i don't want to get the bathroom.(he turns to newmans door)\n",
      "\n",
      "george: oh yeah!\n",
      "\n",
      "george:(to himself) you can have to be able to do it.\n",
      "\n",
      "jerry: what are you doing here?\n",
      "\n",
      "jerry: yeah.\n",
      "\n",
      "elaine:(confused, imitating a rickshaw.\n",
      "\n",
      "george: oh, yeah, yeah.\n",
      "\n",
      "george: oh, i don't know, you can see me.\n",
      "\n",
      "kramer: yeah, yeah. i got to see you and the same thing is i have had to do it.\n",
      "\n",
      "kramer:(confused) well, it's just a little puzzling.\n",
      "\n",
      "elaine:(leaving) well, what happened to the end?\n",
      "\n",
      "george: yeah, well.\n",
      "\n",
      "morty: i think it's the last time you can do that.\n",
      "\n",
      "jerry: oh, no, no.\n",
      "\n",
      "jerry: what are you doing?\n",
      "\n",
      "hoyt: i can't get a little adjustment for you.\n",
      "\n",
      "elaine: what?\n",
      "\n",
      "helen:(getting off his phone) well, i guess i can get the whole bathroom.\n",
      "\n",
      "jerry: what are you gonna do?\n",
      "\n",
      "hoyt: yes, i think i could have danced.\n",
      "\n",
      "\n"
     ]
    }
   ],
   "source": [
    "# run the cell multiple times to get different results!\n",
    "gen_length = 500 # modify the length to your preference\n",
    "prime_word = 'kramer' # name for starting the script\n",
    "\n",
    "\n",
    "pad_word = helper.SPECIAL_WORDS['PADDING']\n",
    "generated_script = generate(trained_rnn, vocab_to_int[prime_word + ':'], int_to_vocab, token_dict, vocab_to_int[pad_word], gen_length)\n",
    "print(generated_script)"
   ]
  },
  {
   "cell_type": "markdown",
   "metadata": {},
   "source": [
    "#### Save scripts"
   ]
  },
  {
   "cell_type": "code",
   "execution_count": 21,
   "metadata": {},
   "outputs": [],
   "source": [
    "# save script to a text file\n",
    "f =  open(\"generated_script_1.txt\",\"w\")\n",
    "f.write(generated_script)\n",
    "f.close()"
   ]
  }
 ],
 "metadata": {
  "kernelspec": {
   "display_name": "Python 3",
   "language": "python",
   "name": "python3"
  },
  "language_info": {
   "codemirror_mode": {
    "name": "ipython",
    "version": 3
   },
   "file_extension": ".py",
   "mimetype": "text/x-python",
   "name": "python",
   "nbconvert_exporter": "python",
   "pygments_lexer": "ipython3",
   "version": "3.6.3"
  },
  "widgets": {
   "state": {},
   "version": "1.1.2"
  }
 },
 "nbformat": 4,
 "nbformat_minor": 1
}
